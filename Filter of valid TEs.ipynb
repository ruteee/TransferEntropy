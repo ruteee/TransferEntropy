{
 "cells": [
  {
   "cell_type": "code",
   "execution_count": 1,
   "metadata": {},
   "outputs": [],
   "source": [
    "def generate_df_valid_entropies(df, limit):\n",
    "    '''df - dataframe filled with transfer entropy values, limit - treshold of significance.\n",
    "     Returns a dataframe only with Transfer Entropy values above the threshold.'''\n",
    "    df_valid = df.copy()\n",
    "    for row in df.columns:\n",
    "        for col in df.columns:\n",
    "            if df[row][col] < limit:\n",
    "                df_valid[row][col] = 0\n",
    "                \n",
    "    return df_valid "
   ]
  }
 ],
 "metadata": {
  "kernelspec": {
   "display_name": "Python 3",
   "language": "python",
   "name": "python3"
  },
  "language_info": {
   "codemirror_mode": {
    "name": "ipython",
    "version": 3
   },
   "file_extension": ".py",
   "mimetype": "text/x-python",
   "name": "python",
   "nbconvert_exporter": "python",
   "pygments_lexer": "ipython3",
   "version": "3.7.1"
  }
 },
 "nbformat": 4,
 "nbformat_minor": 2
}
